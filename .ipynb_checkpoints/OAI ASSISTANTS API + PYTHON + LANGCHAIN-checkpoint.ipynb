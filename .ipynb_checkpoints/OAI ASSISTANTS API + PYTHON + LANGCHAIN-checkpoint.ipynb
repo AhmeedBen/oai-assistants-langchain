{
 "cells": [
  {
   "cell_type": "markdown",
   "metadata": {
    "id": "ykElVnxqDNO7"
   },
   "source": [
    "# OAI Assistants API + Python + Langchain\n",
    "\n",
    "In Their recent DevDay, OpenAI finally released the **Assistants** API. It allows users to build AI assistants within it's powerful API.\n",
    "\n",
    "An Assistant has instructions and can leverage models, tools, and knowledge to respond to user queries. The **Assistants** API currently supports three types of tools:\n",
    "- Code Interpreter\n",
    "- Retrieval\n",
    "- Function calling\n",
    "\n",
    "In this notebook, I will share with you 2 ways of using **Assistants** API:\n",
    "\n",
    "1. `Python code`\n",
    "2. `LangChain`\n",
    "\n",
    "\n",
    "In principle, to interact with an Assistant, the following steps should be followed:\n",
    "\n",
    "1. Create an `Assistant` in the API\n",
    "2. Create a `Thread`\n",
    "3. Add `Messages` to the `Thread`\n",
    "4. Run the `Assistant` on the `Thread` to trigger responses. This automatically calls the relevant tools.\n",
    "    ![image](./Gpts.png)"
   ]
  },
  {
   "cell_type": "markdown",
   "metadata": {},
   "source": [
    "## Requirements\n",
    "first install openai library"
   ]
  },
  {
   "cell_type": "code",
   "execution_count": null,
   "metadata": {},
   "outputs": [],
   "source": [
    "!pip install openai"
   ]
  },
  {
   "cell_type": "markdown",
   "metadata": {
    "id": "bpPPGpeuE3wj"
   },
   "source": [
    "## Python code\n",
    "\n",
    "Before you run the following commands, make sure you have a valid **OPENAI_API_KEY** environmental variable set."
   ]
  },
  {
   "cell_type": "code",
   "execution_count": null,
   "metadata": {},
   "outputs": [],
   "source": [
    "import os\n",
    "os.environ[\"OPENAI_API_KEY\"] = \"sk-....................\"\n",
    "# create the client\n",
    "client = OpenAI()"
   ]
  },
  {
   "cell_type": "markdown",
   "metadata": {},
   "source": [
    "### Step 1: Create an Assistant"
   ]
  },
  {
   "cell_type": "code",
   "execution_count": null,
   "metadata": {},
   "outputs": [],
   "source": [
    "assistant = client.beta.assistants.create(\n",
    "    name=\"Math Tutor\",\n",
    "    instructions=\"You are a personal math tutor. Write and run code to answer math questions.\",\n",
    "    tools=[{\"type\": \"code_interpreter\"}],\n",
    "    model=\"gpt-4-1106-preview\"\n",
    ")"
   ]
  },
  {
   "cell_type": "markdown",
   "metadata": {},
   "source": [
    "### Step 2: Create a Thread"
   ]
  },
  {
   "cell_type": "code",
   "execution_count": null,
   "metadata": {},
   "outputs": [],
   "source": [
    "thread = client.beta.threads.create()"
   ]
  },
  {
   "cell_type": "markdown",
   "metadata": {},
   "source": [
    "### Step 3: Add a Message to a Thread"
   ]
  },
  {
   "cell_type": "code",
   "execution_count": null,
   "metadata": {},
   "outputs": [],
   "source": [
    "message = client.beta.threads.messages.create(\n",
    "    thread_id=thread.id,\n",
    "    role=\"user\",\n",
    "    content=\"I need to solve the equation `3x + 11 = 14`. Can you help me?\"\n",
    ")"
   ]
  },
  {
   "cell_type": "markdown",
   "metadata": {},
   "source": [
    "### Step 4: Run the Assistant"
   ]
  },
  {
   "cell_type": "code",
   "execution_count": null,
   "metadata": {},
   "outputs": [],
   "source": [
    "run = client.beta.threads.runs.create(\n",
    "  thread_id=thread.id,\n",
    "  assistant_id=assistant.id,\n",
    "  instructions=\"Please address the user as llm facile\"\n",
    ")"
   ]
  },
  {
   "cell_type": "markdown",
   "metadata": {},
   "source": [
    "### Step 5: Display the Assistant's Response"
   ]
  },
  {
   "cell_type": "code",
   "execution_count": null,
   "metadata": {},
   "outputs": [],
   "source": [
    "messages = client.beta.threads.messages.list(\n",
    "  thread_id=thread.id\n",
    ")\n",
    "\n",
    "messages"
   ]
  },
  {
   "cell_type": "code",
   "execution_count": null,
   "metadata": {},
   "outputs": [],
   "source": []
  },
  {
   "cell_type": "markdown",
   "metadata": {
    "id": "1BVbUSW2IC51"
   },
   "source": [
    "## Use LangChain\n",
    "\n",
    "Make sure you use at least version `0.0.331rc2` of LangChain to work with Assistants API.\n",
    "\n",
    "Currently LangChain is delivering the Assistants support by `langchain-experimental` package.\n",
    "\n",
    "The only class you need is just **OpenAIAssistantRunnable**, which makes code much cleaner.\n"
   ]
  },
  {
   "cell_type": "code",
   "execution_count": null,
   "metadata": {
    "id": "em823NSa5xOa"
   },
   "outputs": [],
   "source": [
    "!pip install -U -q \"langchain==0.0.331rc2\" langchain-experimental \"openai>=1.1\""
   ]
  },
  {
   "cell_type": "code",
   "execution_count": null,
   "metadata": {},
   "outputs": [],
   "source": [
    "from langchain_experimental.openai_assistant import OpenAIAssistantRunnable"
   ]
  },
  {
   "cell_type": "code",
   "execution_count": null,
   "metadata": {},
   "outputs": [],
   "source": [
    "interpreter_assistant = OpenAIAssistantRunnable.create_assistant(\n",
    "    name=\"langchain assistant\",\n",
    "    instructions=\"You are a personal math tutor. Write and run code to answer math questions\",\n",
    "    tools=[{\"type\": \"code_interpreter\"}],\n",
    "    model=\"gpt-4\"\n",
    ")"
   ]
  },
  {
   "cell_type": "code",
   "execution_count": null,
   "metadata": {},
   "outputs": [],
   "source": [
    "messages = interpreter_assistant.invoke({\"content\": \"I need to solve the equation `3x + 11 = 14`. Can you help me?\"})\n",
    "messages"
   ]
  }
 ],
 "metadata": {
  "colab": {
   "authorship_tag": "ABX9TyP3f0+ueKPgrKhFpzZWRC4C",
   "include_colab_link": true,
   "provenance": []
  },
  "kernelspec": {
   "display_name": "Python 3 (ipykernel)",
   "language": "python",
   "name": "python3"
  },
  "language_info": {
   "codemirror_mode": {
    "name": "ipython",
    "version": 3
   },
   "file_extension": ".py",
   "mimetype": "text/x-python",
   "name": "python",
   "nbconvert_exporter": "python",
   "pygments_lexer": "ipython3",
   "version": "3.9.4"
  }
 },
 "nbformat": 4,
 "nbformat_minor": 1
}
